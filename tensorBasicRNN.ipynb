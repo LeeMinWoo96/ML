{
 "cells": [
  {
   "cell_type": "code",
   "execution_count": 2,
   "metadata": {},
   "outputs": [
    {
     "name": "stderr",
     "output_type": "stream",
     "text": [
      "c:\\users\\user\\anaconda3\\envs\\cuda\\lib\\site-packages\\tensorflow\\python\\framework\\dtypes.py:526: FutureWarning: Passing (type, 1) or '1type' as a synonym of type is deprecated; in a future version of numpy, it will be understood as (type, (1,)) / '(1,)type'.\n",
      "  _np_qint8 = np.dtype([(\"qint8\", np.int8, 1)])\n",
      "c:\\users\\user\\anaconda3\\envs\\cuda\\lib\\site-packages\\tensorflow\\python\\framework\\dtypes.py:527: FutureWarning: Passing (type, 1) or '1type' as a synonym of type is deprecated; in a future version of numpy, it will be understood as (type, (1,)) / '(1,)type'.\n",
      "  _np_quint8 = np.dtype([(\"quint8\", np.uint8, 1)])\n",
      "c:\\users\\user\\anaconda3\\envs\\cuda\\lib\\site-packages\\tensorflow\\python\\framework\\dtypes.py:528: FutureWarning: Passing (type, 1) or '1type' as a synonym of type is deprecated; in a future version of numpy, it will be understood as (type, (1,)) / '(1,)type'.\n",
      "  _np_qint16 = np.dtype([(\"qint16\", np.int16, 1)])\n",
      "c:\\users\\user\\anaconda3\\envs\\cuda\\lib\\site-packages\\tensorflow\\python\\framework\\dtypes.py:529: FutureWarning: Passing (type, 1) or '1type' as a synonym of type is deprecated; in a future version of numpy, it will be understood as (type, (1,)) / '(1,)type'.\n",
      "  _np_quint16 = np.dtype([(\"quint16\", np.uint16, 1)])\n",
      "c:\\users\\user\\anaconda3\\envs\\cuda\\lib\\site-packages\\tensorflow\\python\\framework\\dtypes.py:530: FutureWarning: Passing (type, 1) or '1type' as a synonym of type is deprecated; in a future version of numpy, it will be understood as (type, (1,)) / '(1,)type'.\n",
      "  _np_qint32 = np.dtype([(\"qint32\", np.int32, 1)])\n",
      "c:\\users\\user\\anaconda3\\envs\\cuda\\lib\\site-packages\\tensorflow\\python\\framework\\dtypes.py:535: FutureWarning: Passing (type, 1) or '1type' as a synonym of type is deprecated; in a future version of numpy, it will be understood as (type, (1,)) / '(1,)type'.\n",
      "  np_resource = np.dtype([(\"resource\", np.ubyte, 1)])\n"
     ]
    }
   ],
   "source": [
    "import tensorflow as tf\n",
    "import numpy as np\n",
    "\n",
    "idxchar = ['g','o','h','o','m','e'] # 목적 (학습시킬 데이터 )\n",
    "\n",
    "x_data = [[0,1,2,1,3]] # 들어갈 데이터 gohom \n",
    "\n",
    "\n",
    "# 원핫 인코당 \n",
    "x_one_hot = [[[1,0,0,0],\n",
    "             [0,1,0,0],\n",
    "             [0,0,1,0],\n",
    "             [0,1,0,0],\n",
    "             [0,0,0,1]]]\n",
    "\n",
    "t_data = [[1,2,1,3,4]] # ohome  -> 나올 데이터  \n",
    "\n",
    "num_classes = 5 # 정답 크기 \n",
    "input_dim = 4 # 원핫 길이 0~3 까지 4개 음 한 행 원소수 음... 알파벳 갯수 여기서 보면 \n",
    "hidden_size= 5 # 은닉층의 출력값 즉 예측해서 나올값 -> 즉 정답크기와 동일함 \n",
    "batch_size = 1 # 하나씩  \n",
    "sequence_length = 5 # 입력으로 들어가는 길이 \n",
    "learning_rate = 0.1\n",
    "\n",
    "\n",
    "X = tf.placeholder(tf.float32, [None, sequence_length, input_dim]) # 입력 데이터 노드\n",
    "T = tf.placeholder(tf.int32, [None, sequence_length]) # 정답 데이터 노드  \n"
   ]
  },
  {
   "cell_type": "code",
   "execution_count": 3,
   "metadata": {},
   "outputs": [
    {
     "name": "stdout",
     "output_type": "stream",
     "text": [
      "\n",
      "WARNING: The TensorFlow contrib module will not be included in TensorFlow 2.0.\n",
      "For more information, please see:\n",
      "  * https://github.com/tensorflow/community/blob/master/rfcs/20180907-contrib-sunset.md\n",
      "  * https://github.com/tensorflow/addons\n",
      "If you depend on functionality not listed there, please file an issue.\n",
      "\n",
      "WARNING:tensorflow:From <ipython-input-3-0f69b64564cc>:1: BasicRNNCell.__init__ (from tensorflow.python.ops.rnn_cell_impl) is deprecated and will be removed in a future version.\n",
      "Instructions for updating:\n",
      "This class is equivalent as tf.keras.layers.SimpleRNNCell, and will be replaced by that in Tensorflow 2.0.\n",
      "WARNING:tensorflow:From <ipython-input-3-0f69b64564cc>:6: dynamic_rnn (from tensorflow.python.ops.rnn) is deprecated and will be removed in a future version.\n",
      "Instructions for updating:\n",
      "Please use `keras.layers.RNN(cell)`, which is equivalent to this API\n",
      "WARNING:tensorflow:From c:\\users\\user\\anaconda3\\envs\\cuda\\lib\\site-packages\\tensorflow\\python\\ops\\tensor_array_ops.py:162: colocate_with (from tensorflow.python.framework.ops) is deprecated and will be removed in a future version.\n",
      "Instructions for updating:\n",
      "Colocations handled automatically by placer.\n"
     ]
    }
   ],
   "source": [
    "\n",
    "cell = tf.contrib.rnn.BasicRNNCell(num_units = hidden_size)\n",
    "# 여기서 LSTM 이나 GRU 등의 셀로 API 변경 가능 \n",
    "\n",
    "initial_state = cell.zero_state(batch_size, tf.float32)\n",
    "\n",
    "outputs, _states=tf.nn.dynamic_rnn(cell,X,initial_state=initial_state,dtype=tf.float32)\n"
   ]
  },
  {
   "cell_type": "code",
   "execution_count": 4,
   "metadata": {},
   "outputs": [],
   "source": [
    "weights= tf.ones([batch_size, sequence_length])\n",
    "\n",
    "seq_loss = tf.contrib.seq2seq.sequence_loss(logits=outputs, targets=T, weights = weights)\n",
    "# 손실함수를 계산 \n",
    "# 출력층  \n",
    "\n",
    "loss = tf.reduce_mean(seq_loss)\n",
    "\n",
    "train = tf.train.AdamOptimizer(learning_rate = learning_rate).minimize(loss)\n",
    "# seq_loss 가 최소가 되는 값을 옵티마이저  "
   ]
  },
  {
   "cell_type": "code",
   "execution_count": 7,
   "metadata": {},
   "outputs": [
    {
     "name": "stdout",
     "output_type": "stream",
     "text": [
      "step =  0 , loss = 2.2337084 , prediction =  [[4 1 2 1 2]] target =  [[1, 2, 1, 3, 4]]\n",
      "\tPrediction =  mohoh\n",
      "step =  400 , loss = 0.45469657 , prediction =  [[1 2 1 3 4]] target =  [[1, 2, 1, 3, 4]]\n",
      "\tPrediction =  ohoom\n",
      "step =  800 , loss = 0.4484662 , prediction =  [[1 2 1 3 4]] target =  [[1, 2, 1, 3, 4]]\n",
      "\tPrediction =  ohoom\n",
      "step =  1200 , loss = 0.44552484 , prediction =  [[1 2 1 3 4]] target =  [[1, 2, 1, 3, 4]]\n",
      "\tPrediction =  ohoom\n",
      "step =  1600 , loss = 0.4436884 , prediction =  [[1 2 1 3 4]] target =  [[1, 2, 1, 3, 4]]\n",
      "\tPrediction =  ohoom\n",
      "step =  2000 , loss = 0.44241047 , prediction =  [[1 2 1 3 4]] target =  [[1, 2, 1, 3, 4]]\n",
      "\tPrediction =  ohoom\n"
     ]
    }
   ],
   "source": [
    "y = prediction = tf.argmax(outputs, axis=2)\n",
    "\n",
    "with tf.Session() as sess:\n",
    "    sess.run(tf.global_variables_initializer())\n",
    "    \n",
    "    for step in range(2001): # _ 는 뒤에 반환값 무시하려고 그냥 \n",
    "        loss_val, _ = sess.run([loss, train], feed_dict = {X: x_one_hot, T: t_data}) # 손실함수 계산 및 가중치 업데이트 \n",
    "        # feed_dict  은 place_holder 에 tensor 를 할당\n",
    "         \n",
    "        # RNN 은 입력데이터로 변환덴 값을 줌 \n",
    "        \n",
    "        result = sess.run(y, feed_dict = {X: x_one_hot}) #입력 데이터에 대한 예측 수행 \n",
    "        \n",
    "        if step % 400 ==0:\n",
    "            print(\"step = \", step,\", loss =\",loss_val,\", prediction = \", result, \"target = \", t_data)\n",
    "            \n",
    "            result_str = [idxchar[c] for c in np.squeeze(result)] # one_hot -> 다시 문자  \n",
    "            print(\"\\tPrediction = \", ''.join(result_str))"
   ]
  }
 ],
 "metadata": {
  "kernelspec": {
   "display_name": "Python 3",
   "language": "python",
   "name": "python3"
  },
  "language_info": {
   "codemirror_mode": {
    "name": "ipython",
    "version": 3
   },
   "file_extension": ".py",
   "mimetype": "text/x-python",
   "name": "python",
   "nbconvert_exporter": "python",
   "pygments_lexer": "ipython3",
   "version": "3.6.9"
  }
 },
 "nbformat": 4,
 "nbformat_minor": 4
}
